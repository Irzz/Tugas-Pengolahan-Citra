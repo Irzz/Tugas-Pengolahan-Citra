{
 "cells": [
  {
   "cell_type": "code",
   "execution_count": null,
   "metadata": {},
   "outputs": [],
   "source": [
    "from PIL import Image\n",
    "\n",
    "image_path = \"D:\\Codingan\\Python\\Tugas Pengolahan Citra\\Image\\R.jpg\"\n",
    "    \n",
    "image = Image.open(image_path)\n",
    "image = image.resize((700, 500))\n",
    "    \n",
    "brightness_factor = 50 / 100.0\n",
    "contrast_factor = (20 + 100.0) / 100.0\n",
    "    \n",
    "brightness_image = image.point(lambda p: p * brightness_factor)\n",
    "contrass_image = image.point(lambda p: p * contrast_factor)"
   ]
  },
  {
   "cell_type": "code",
   "execution_count": null,
   "metadata": {},
   "outputs": [],
   "source": [
    "image.show()\n",
    "brightness_image.show()\n",
    "contrass_image.show()"
   ]
  }
 ],
 "metadata": {
  "kernelspec": {
   "display_name": "base",
   "language": "python",
   "name": "python3"
  },
  "language_info": {
   "codemirror_mode": {
    "name": "ipython",
    "version": 3
   },
   "file_extension": ".py",
   "mimetype": "text/x-python",
   "name": "python",
   "nbconvert_exporter": "python",
   "pygments_lexer": "ipython3",
   "version": "3.10.9"
  },
  "orig_nbformat": 4
 },
 "nbformat": 4,
 "nbformat_minor": 2
}
