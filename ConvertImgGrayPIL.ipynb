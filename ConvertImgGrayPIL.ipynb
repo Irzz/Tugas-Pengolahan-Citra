{
 "cells": [
  {
   "cell_type": "code",
   "execution_count": 1,
   "metadata": {},
   "outputs": [],
   "source": [
    "# Irgi Zanuar\n",
    "# 1102190019\n",
    "from PIL import Image\n",
    "\n",
    "img = \"R.jpg\"\n",
    "\n",
    "img = Image.open(img)\n",
    "width, height = img.size\n",
    "\n",
    "grayscale_image = Image.new(\"L\", (width, height))\n",
    "\n",
    "for y in range(height):\n",
    "    for x in range(width):\n",
    "\n",
    "        r, g, b = img.getpixel((x, y))\n",
    "\n",
    "        grayscale = int((r + g + b) / 3)\n",
    "\n",
    "        grayscale_image.putpixel((x, y), grayscale)"
   ]
  },
  {
   "cell_type": "code",
   "execution_count": 2,
   "metadata": {},
   "outputs": [
    {
     "name": "stdout",
     "output_type": "stream",
     "text": [
      "Nilai Red : 240, Green : 213, Blue : 202\n",
      "Nilai Grayscale =  218\n"
     ]
    }
   ],
   "source": [
    "print(f\"Nilai Red : {r}, Green : {g}, Blue : {b}\")\n",
    "print(\"Nilai Grayscale = \", grayscale)"
   ]
  },
  {
   "cell_type": "code",
   "execution_count": 3,
   "metadata": {},
   "outputs": [],
   "source": [
    "grayscale_image.show()"
   ]
  }
 ],
 "metadata": {
  "kernelspec": {
   "display_name": "base",
   "language": "python",
   "name": "python3"
  },
  "language_info": {
   "codemirror_mode": {
    "name": "ipython",
    "version": 3
   },
   "file_extension": ".py",
   "mimetype": "text/x-python",
   "name": "python",
   "nbconvert_exporter": "python",
   "pygments_lexer": "ipython3",
   "version": "3.10.9"
  },
  "orig_nbformat": 4
 },
 "nbformat": 4,
 "nbformat_minor": 2
}
